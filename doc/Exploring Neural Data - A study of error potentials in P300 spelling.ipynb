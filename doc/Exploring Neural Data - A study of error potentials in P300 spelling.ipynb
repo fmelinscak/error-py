{
 "metadata": {
  "name": "",
  "signature": "sha256:9164484002f7bf83a53dee5352876ec691f4b73ff814bf362eec943f107a32b3"
 },
 "nbformat": 3,
 "nbformat_minor": 0,
 "worksheets": [
  {
   "cells": [
    {
     "cell_type": "markdown",
     "metadata": {},
     "source": [
      "# A study of error potentials in P300 spelling\n",
      "## Final project for the \"Exploring Neural Data\" course on [Coursera](www.coursera.org)"
     ]
    },
    {
     "cell_type": "markdown",
     "metadata": {},
     "source": [
      "### Authors: Andreea Sburlea and Filip Melinscak"
     ]
    }
   ],
   "metadata": {}
  }
 ]
}