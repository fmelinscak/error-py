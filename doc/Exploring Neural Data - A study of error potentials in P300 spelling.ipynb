{
 "metadata": {
  "name": "",
  "signature": "sha256:faca7e0d9a65188f324d839d6d2e474a4f0a1d2aa64947a1f936af0e92d5b41e"
 },
 "nbformat": 3,
 "nbformat_minor": 0,
 "worksheets": [
  {
   "cells": [
    {
     "cell_type": "markdown",
     "metadata": {},
     "source": [
      "# A study of error potentials in P300 spelling\n",
      "## Final project for the \"Exploring Neural Data\" course on [Coursera](http://www.coursera.org)"
     ]
    },
    {
     "cell_type": "markdown",
     "metadata": {},
     "source": [
      "### Authors: Andreea Sburlea and Filip Melinscak"
     ]
    },
    {
     "cell_type": "markdown",
     "metadata": {},
     "source": [
      "### Dataset description\n",
      "\n",
      "_What data were you looking at?_\n",
      "\n",
      "- We looked at the [BCI Challenge @NER 2015](http://www.kaggle.com/c/inria-bci-challenge) data from [Kaggle](http://www.kaggle.com)\n",
      "- The dataset contains EEG recordings from 16 subjects (7 men, mean age = 28.2 $\\pm$ 5.1 (SD), range 20-37)\n",
      "- data was recorded with 56 passive Ag/AgCl EEG sensors positioned according to the 10/20 system\n",
      "- signals were originally sampled at 600 Hz, but the present dataset was downsampled to 200 Hz\n",
      "- besides EEG, eye activity was also recorded with an EOG channel\n",
      "- from the 16 available subjects, we selected the 10 subjects which had the most incorrect feedbacks (i.e. error potentials)\n",
      "\n",
      "- subjects were performing spelling with a P300 BCI\n",
      "- they did 5 spelling sessions: first 4 had 60 feedback presentation, and the last one had 100 feedback presentations\n",
      "- the data of interest for us was the data related to feedbacks which were wrong, and should therefore contain an error potential (ErrP)\n",
      "\n",
      "### Hypotheses\n",
      "\n",
      "_What questions you were trying to answer?_\n",
      "\n",
      "- we hypothesize that due to the attentional processes and fatigue, the amplitudes of the ErrP peaks are going to decrease over time (sessions)\n",
      "- we are interested in the error related negativity (Neg-ErrP) and error related positivity (Pos-ErrP)\n",
      "- based on findings from Perrin et al., we use channel Cz as the channel of interest, and we use windows [325,375] ms (Neg-ErrP) and [455, 505] ms (Pos-ErrP)\n",
      "- additionally, we are interested on how the results vary over subjects\n",
      "\n",
      "### Results\n",
      "\n",
      "_Show what you've found. Put figures here._\n",
      "\n",
      "- grand average over all the subjects and sessions, in Cz, with windows of interest shaded\n",
      " - FIR zero phase filtering (decide on exact filter)\n",
      " - consider regressing out EOG (show grand average) \n",
      "- ~~pivot table with axes Subject and Session, with number of errors~~\n",
      "- figure with regression between trial number and Neg-ErrP and Pos-ErrP\n",
      "\n",
      "### Misc.\n",
      "\n",
      "- _Describe one programming trick_\n",
      "\n",
      "\n",
      "- _Describe a problem you encountered_\n",
      "\n",
      "\n",
      "- _What would you do next with your findings?_\n",
      "\n",
      "- we are going to use our findings in competing in the challenge"
     ]
    },
    {
     "cell_type": "markdown",
     "metadata": {},
     "source": []
    }
   ],
   "metadata": {}
  }
 ]
}