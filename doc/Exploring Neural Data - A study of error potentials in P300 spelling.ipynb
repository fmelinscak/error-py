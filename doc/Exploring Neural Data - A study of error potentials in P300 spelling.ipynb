{
 "metadata": {
  "name": "",
  "signature": "sha256:35913102083f747dc1df2dda4811d70f70a7ea8f410c62c04d4a724799292c18"
 },
 "nbformat": 3,
 "nbformat_minor": 0,
 "worksheets": [
  {
   "cells": [
    {
     "cell_type": "markdown",
     "metadata": {},
     "source": [
      "# A study of error potentials in P300 spelling\n",
      "## Final project for the \"Exploring Neural Data\" course on [Coursera](http://www.coursera.org)"
     ]
    },
    {
     "cell_type": "markdown",
     "metadata": {},
     "source": [
      "### Authors: Andreea Sburlea and Filip Melinscak"
     ]
    }
   ],
   "metadata": {}
  }
 ]
}