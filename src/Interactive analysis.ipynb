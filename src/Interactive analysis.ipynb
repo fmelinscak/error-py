{
 "metadata": {
  "name": "",
  "signature": "sha256:6417b688c467153c943287dcec793ed1edb7f4545eb96b9fd1be36ff37296345"
 },
 "nbformat": 3,
 "nbformat_minor": 0,
 "worksheets": [
  {
   "cells": [
    {
     "cell_type": "markdown",
     "metadata": {},
     "source": [
      "Load necessary libraries"
     ]
    },
    {
     "cell_type": "code",
     "collapsed": false,
     "input": [
      "%matplotlib inline\n",
      "\n",
      "import numpy as np\n",
      "import scipy as sp\n",
      "import pandas as pd\n",
      "import matplotlib.pylab as plt\n",
      "import matplotlib.mlab as m"
     ],
     "language": "python",
     "metadata": {},
     "outputs": [],
     "prompt_number": 23
    },
    {
     "cell_type": "markdown",
     "metadata": {},
     "source": [
      "Load labels"
     ]
    },
    {
     "cell_type": "code",
     "collapsed": false,
     "input": [
      "TrainLabels = pd.read_csv('../data/TrainLabels.csv', header=0)\n",
      "\n",
      "TrainLabels['Subject'] = TrainLabels['IdFeedBack'].map(lambda s : int(s[1:3]))\n",
      "TrainLabels['Session'] = TrainLabels['IdFeedBack'].map(lambda s : int(s[8:10]))\n",
      "TrainLabels['FeedbackNo'] = TrainLabels['IdFeedBack'].map(lambda s : int(s[13:]))\n",
      "TrainLabels = TrainLabels[['Subject','Session','FeedbackNo','Prediction']]"
     ],
     "language": "python",
     "metadata": {},
     "outputs": [],
     "prompt_number": 47
    },
    {
     "cell_type": "code",
     "collapsed": false,
     "input": [
      "# Number of correct and error trials\n",
      "pd.value_counts(TrainLabels['Prediction'])"
     ],
     "language": "python",
     "metadata": {},
     "outputs": [
      {
       "metadata": {},
       "output_type": "pyout",
       "prompt_number": 55,
       "text": [
        "1    3850\n",
        "0    1590\n",
        "dtype: int64"
       ]
      }
     ],
     "prompt_number": 55
    },
    {
     "cell_type": "code",
     "collapsed": false,
     "input": [],
     "language": "python",
     "metadata": {},
     "outputs": []
    }
   ],
   "metadata": {}
  }
 ]
}